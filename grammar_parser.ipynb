{
 "cells": [
  {
   "cell_type": "code",
   "outputs": [],
   "source": [
    "def plot_graph_from_expression(expression_string, file_name):\n",
    "    from graphviz import Source\n",
    "    from lark import Lark\n",
    "    from yaml2dot import data_loader,converter\n",
    "    def transf_yaml(indented_tree):\n",
    "        aux = r\"\"\n",
    "        for line in indented_tree.splitlines():\n",
    "            # print(line)\n",
    "            if \"\\t\" in line:\n",
    "                if line.split(\"\\t\")[0] in aux : \n",
    "                    aux_compt = 1\n",
    "                    while line.split(\"\\t\")[0]+\"_\" + str(aux_compt) in aux :\n",
    "                        aux_compt += 1\n",
    "                    aux=aux + \"\\n\" + line.split(\"\\t\")[0] + \"_\"+str(aux_compt)+\": \" + line.split(\"\\t\")[1]\n",
    "                else :            \n",
    "                    aux=aux + \"\\n\" +line.replace(\"\\t\",\": \")\n",
    "            else :\n",
    "                if line in aux :\n",
    "                    aux_compt = 1\n",
    "                    while line + \"_\"+str(aux_compt)+\":\" in aux :\n",
    "                        aux_compt += 1\n",
    "                    aux=aux + \"\\n\" + line +\"_\"+str(aux_compt)+\":\"\n",
    "                else :\n",
    "                    aux = aux + \"\\n\" + line + \":\"\n",
    "        return aux \n",
    "    expression_grammar = r\"\"\"\n",
    "                expression: path\n",
    "                          | function\n",
    "                         \n",
    "                path : path function path  \n",
    "                     | DOUBLE_QUOTED_STRING \n",
    "                     | SINGLE_QUOTED_STRING \n",
    "                \n",
    "                function : \"\\\\\"function_name \"(\" function_param  \")\"\n",
    "                \n",
    "                \n",
    "                function_param : function_param \",\" function_param\n",
    "                                | path\n",
    "                                | function\n",
    "                                | NUMBER\n",
    "                                | STRING\n",
    "                                | EXTENDED_STRING\n",
    "                                \n",
    "                        \n",
    "                function_name:  STRING | STRING \"_\" STRING\n",
    "                \n",
    "                STRING          : /[a-zA-Z0-9_.-]{1,}/\n",
    "                NUMBER          : /[0-9.]+/\n",
    "                EXTENDED_STRING : (NUMBER|STRING|\".\"|\"-\"|\"*\"|\"_\"|\"[\"|\"]\"|\"#\"|\"~\"|\"^\")+\n",
    "                \n",
    "                \n",
    "                DOUBLE_QUOTED_STRING  : /\"[^\"]*\"/ \n",
    "                SINGLE_QUOTED_STRING  : /'[^']*'/\n",
    "                \n",
    "                %import common.LETTER\n",
    "                %import common.ESCAPED_STRING\n",
    "                \n",
    "                \"\"\"\n",
    "                \n",
    "    expression_parser = Lark(expression_grammar, start = \"expression\")\n",
    "    with open(file_name+\".yaml\",\"w\") as f :\n",
    "        f.write(transf_yaml(expression_parser.parse(expression_string).pretty()))\n",
    "    \n",
    "\n",
    "    # Load YAML or JSON data from a file\n",
    "    data = data_loader.load_yaml_or_json(file_name+'.yaml')\n",
    "    \n",
    "    # Convert the data to DOT format (default)\n",
    "    dot_output = converter.convert_yaml_or_json_to_format(data)    \n",
    "    with open(file_name+\".dot\",\"w\") as f : \n",
    "        \n",
    "        f.write(dot_output)\n",
    "    \n",
    "    s = Source.from_file(file_name+\".dot\")\n",
    "    s.view()"
   ],
   "metadata": {
    "collapsed": false,
    "ExecuteTime": {
     "end_time": "2024-04-12T15:05:39.682430484Z",
     "start_time": "2024-04-12T15:05:39.667576067Z"
    }
   },
   "id": "7e7c9524520d1949",
   "execution_count": 41
  },
  {
   "cell_type": "markdown",
   "source": [
    "# MD_Identification\\citation\\\\\\\\title"
   ],
   "metadata": {
    "collapsed": false
   },
   "id": "e41f393f4d03f4b"
  },
  {
   "cell_type": "code",
   "outputs": [
    {
     "name": "stderr",
     "output_type": "stream",
     "text": [
      "Warning: using box for unknown shape rounded\n",
      "\n",
      "(process:61614): Gtk-WARNING **: 17:53:39.826: Locale not supported by C library.\n",
      "\tUsing the fallback 'C' locale.\n",
      "Warning: using box for unknown shape rounded\n"
     ]
    }
   ],
   "source": [
    "plot_graph_from_expression(r\"'MD_identification.citation'\\regex(.*)'.title'\", \"./cases/function/concept\")\n",
    "plot_graph_from_expression(r\"\\value(\\attr('collection.description',type))\", \"./cases/function/condition\")\n"
   ],
   "metadata": {
    "collapsed": false,
    "ExecuteTime": {
     "end_time": "2024-04-11T15:53:39.875835027Z",
     "start_time": "2024-04-11T15:53:39.759129781Z"
    }
   },
   "id": "ed28a08afa940275",
   "execution_count": 16
  },
  {
   "cell_type": "markdown",
   "source": [
    "# Complexe mapping 1 - Worfklow parsing example : \\value(\\conversionFunction_euro_dollar('o2:priceInEuro'))"
   ],
   "metadata": {
    "collapsed": false
   },
   "id": "65e6abba2ab49a02"
  },
  {
   "cell_type": "code",
   "outputs": [
    {
     "name": "stderr",
     "output_type": "stream",
     "text": [
      "Warning: using box for unknown shape rounded\n"
     ]
    }
   ],
   "source": [
    "plot_graph_from_expression(r\"\\value(\\conversionFunction_euro_dollar('o2:priceInEuro'))\", \"./cases/complex_mapping1/conceptB\")"
   ],
   "metadata": {
    "collapsed": false,
    "ExecuteTime": {
     "end_time": "2024-04-12T15:10:14.923393036Z",
     "start_time": "2024-04-12T15:10:14.869554904Z"
    }
   },
   "id": "957025c622c14564",
   "execution_count": 53
  },
  {
   "cell_type": "markdown",
   "source": [
    "# Complexe mapping 1 - ConceptA : \\value('o1:priceInDollars')"
   ],
   "metadata": {
    "collapsed": false
   },
   "id": "53834a1c9b9a7316"
  },
  {
   "cell_type": "code",
   "outputs": [
    {
     "name": "stderr",
     "output_type": "stream",
     "text": [
      "Warning: using box for unknown shape rounded\n"
     ]
    }
   ],
   "source": [
    "plot_graph_from_expression(r\"\\value(\\conversionFunction_euro_dollar('o2:priceInEuro'))\", \"./cases/complex_mapping1/conceptA\")"
   ],
   "metadata": {
    "collapsed": false,
    "ExecuteTime": {
     "end_time": "2024-04-12T15:10:17.519030100Z",
     "start_time": "2024-04-12T15:10:17.460798335Z"
    }
   },
   "id": "1ae97bb9e4a17d87",
   "execution_count": 54
  },
  {
   "cell_type": "markdown",
   "source": [
    "# Complexe mapping 1 - condition ModelA : \"'MD_Identification.citation.'\\regex(.*)'citedResponsibleParty.'\\regex(.*)'role'\""
   ],
   "metadata": {
    "collapsed": false
   },
   "id": "cf7e3530a89e03fe"
  },
  {
   "cell_type": "code",
   "outputs": [
    {
     "name": "stderr",
     "output_type": "stream",
     "text": [
      "Warning: using box for unknown shape rounded\n"
     ]
    }
   ],
   "source": [
    "plot_graph_from_expression(r\"'MD_Identification.citation.'\\regex(.*)'citedResponsibleParty.'\\regex(.*)'role'\",\"./cases/complex_mapping1/condition_conceptA\")"
   ],
   "metadata": {
    "collapsed": false,
    "ExecuteTime": {
     "end_time": "2024-04-12T15:10:35.678111601Z",
     "start_time": "2024-04-12T15:10:35.615676542Z"
    }
   },
   "id": "c28d677d20479fd0",
   "execution_count": 56
  }
 ],
 "metadata": {
  "kernelspec": {
   "display_name": "Python 3",
   "language": "python",
   "name": "python3"
  },
  "language_info": {
   "codemirror_mode": {
    "name": "ipython",
    "version": 2
   },
   "file_extension": ".py",
   "mimetype": "text/x-python",
   "name": "python",
   "nbconvert_exporter": "python",
   "pygments_lexer": "ipython2",
   "version": "2.7.6"
  }
 },
 "nbformat": 4,
 "nbformat_minor": 5
}
